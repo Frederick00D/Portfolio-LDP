{
 "cells": [
  {
   "cell_type": "code",
   "execution_count": 1,
   "id": "80f86cb2-2a3c-4e40-b409-63d17adcbe2d",
   "metadata": {},
   "outputs": [],
   "source": [
    "# For Gaussian(0,1) ep and Gaussian(0,1) Z"
   ]
  },
  {
   "cell_type": "code",
   "execution_count": 3,
   "id": "147d9d49-d7cd-4b49-a5a3-927b0da2c6b7",
   "metadata": {},
   "outputs": [],
   "source": [
    "import mpmath as mp"
   ]
  },
  {
   "cell_type": "code",
   "execution_count": 4,
   "id": "1bcdb479-c842-4d4d-bbfe-5a88002cb7aa",
   "metadata": {},
   "outputs": [],
   "source": [
    "# ---- Core stats for Uniform(0,1) ----\n",
    "def uniform_LDP_stats(x):\n",
    "    \"\"\"\n",
    "    Return theta_x, I_x, sqrtLpp, C_x for Uniform(0,1) at point x in (0,1).\n",
    "    \"\"\"\n",
    "    if not (0 < x < 1):\n",
    "        raise ValueError(\"x must be strictly between 0 and 1.\")\n",
    "\n",
    "    # log-mgf Λ(t) = log((e^t - 1)/t)\n",
    "    Lambda   = lambda t: mp.log((mp.e**t - 1)/t)\n",
    "    LambdaP  = lambda t: (mp.e**t*(t-1) + 1)/(t*(mp.e**t - 1))\n",
    "    # Λ''(t) = 1/t^2 - e^t/(e^t - 1)^2\n",
    "    LambdaPP = lambda t: 1/t**2 - mp.e**t/((mp.e**t - 1)**2)\n",
    "\n",
    "    # Special case x=0.5 → theta=0\n",
    "    if abs(x - 0.5) < 1e-12:\n",
    "        theta_x = 0.0\n",
    "        I_x     = 0.0\n",
    "        sqrtLpp = mp.sqrt(1/12)   # variance of Uniform(0,1)\n",
    "        C_x     = 0.0\n",
    "        return theta_x, I_x, sqrtLpp, C_x\n",
    "\n",
    "    # Solve Λ'(t)=x for t (positive if x>0.5, negative if x<0.5)\n",
    "    f = lambda t: LambdaP(t) - x\n",
    "    theta_x = mp.findroot(f, 1 if x > 0.5 else -1)\n",
    "\n",
    "    # Rate function\n",
    "    I_x = theta_x*x - Lambda(theta_x)\n",
    "\n",
    "    # Curvature\n",
    "    Lpp = 1/12 if abs(theta_x) < 1e-8 else LambdaPP(theta_x)\n",
    "    sqrtLpp = mp.sqrt(Lpp)\n",
    "\n",
    "    # C_x = 1 - t/(e^t - 1)\n",
    "    C_x = 1 - theta_x/(mp.e**theta_x - 1)\n",
    "\n",
    "    return theta_x, I_x, sqrtLpp, C_x"
   ]
  },
  {
   "cell_type": "code",
   "execution_count": 5,
   "id": "06a9466c-f5da-46df-b469-5efbc48b0478",
   "metadata": {},
   "outputs": [],
   "source": [
    "# ---- Your asymptotic tail probability (right tail, x>0.5) ----\n",
    "def prob_expression(x, n):\n",
    "    \"\"\"\n",
    "    Your full prefactor * exp{-n I(x)} * n^{-3/4} * (log n)^(-3/8).\n",
    "    \"\"\"\n",
    "    theta_x, I_x, sqrtLpp, C_x = uniform_LDP_stats(x)\n",
    "    a = 1/(theta_x * sqrtLpp)\n",
    "    b = 1/mp.sqrt(2)\n",
    "    c = (mp.sqrt(2)*0.5)**(0.5**2)  # = (sqrt(2)*0.5)^0.25\n",
    "    exp_inner = -( mp.log(2*mp.pi) + 0.5**2\n",
    "                   + 0.5**2 * mp.log( C_x/(0.5*mp.sqrt(2*mp.pi)) ) )\n",
    "    d = mp.e**(exp_inner)\n",
    "    e = mp.e**(-I_x * n)\n",
    "    f = n**(-(0.5 + 0.5**2))                 # n^(-0.75)\n",
    "    g = (mp.log(n))**((0.5**2)/2 - 0.5)      # (log n)^(-0.375)\n",
    "    return a*b*c*d*e*f*g"
   ]
  },
  {
   "cell_type": "code",
   "execution_count": 6,
   "id": "f77e1fd5-c177-4ace-8aa5-2a07d8964d5d",
   "metadata": {},
   "outputs": [],
   "source": [
    "# ---- Solve for x given n and alpha (right-tail) ----\n",
    "def solve_x_from_alpha(n, alpha, seed1=0.5001, seed2=0.9999, tol=1e-10, maxiter=60):\n",
    "    \"\"\"Solve Prob(x;n) = 1 - alpha for right tail (0.5<x<1).\"\"\"\n",
    "    target = 1 - alpha\n",
    "    f = lambda x: prob_expression(x, n) - target\n",
    "\n",
    "    # Try real-only secant using two seeds\n",
    "    try:\n",
    "        x_star = mp.findroot(f, seed1, seed2)\n",
    "        if abs(mp.im(x_star)) < 1e-12 and 0 < mp.re(x_star) < 1:\n",
    "            x_star = float(mp.re(x_star))\n",
    "        else:\n",
    "            raise ValueError(\"Non-real or out-of-range iterate\")\n",
    "    except Exception:\n",
    "        # Robust fallback: bisection on a monotone function (Prob decreases in x>0.5)\n",
    "        a, b = 0.5001, 0.999\n",
    "        fa, fb = f(a), f(b)\n",
    "        if not (fa >= 0 and fb <= 0):\n",
    "            raise RuntimeError(\n",
    "                f\"Target not bracketed: Prob(a)={fa+target:.3e}, Prob(b)={fb+target:.3e}. \"\n",
    "                f\"Try other bounds or check alpha/n.\"\n",
    "            )\n",
    "        for _ in range(maxiter):\n",
    "            m = 0.5*(a+b)\n",
    "            fm = f(m)\n",
    "            if abs(fm) < tol:\n",
    "                x_star = m\n",
    "                break\n",
    "            if fm > 0:  # Prob(m) > target -> need larger x to decrease Prob\n",
    "                a = m\n",
    "            else:\n",
    "                b = m\n",
    "        else:\n",
    "            x_star = 0.5*(a+b)\n",
    "\n",
    "    theta_x, I_x, sqrtLpp, C_x = uniform_LDP_stats(x_star)\n",
    "    psi = 1/(theta_x*sqrtLpp)   \n",
    "    return x_star, theta_x, I_x, sqrtLpp, C_x, psi\n"
   ]
  },
  {
   "cell_type": "code",
   "execution_count": 34,
   "id": "cdc0b5ca-0520-4fbb-9518-a1a6f74a47c6",
   "metadata": {},
   "outputs": [],
   "source": [
    "def ES(x, n, alpha):\n",
    "    \"\"\"\n",
    "    Your full prefactor * exp{-n I(x)} * n^{-3/4} * (log n)^(-3/8).\n",
    "    \"\"\"\n",
    "    theta_x, I_x, sqrtLpp, C_x = uniform_LDP_stats(x)\n",
    "    a = 1/(theta_x * sqrtLpp)\n",
    "    b = 1/mp.sqrt(2)\n",
    "    c = (mp.sqrt(2)*0.5)**(0.5**2)  # = (sqrt(2)*0.5)^0.25\n",
    "    exp_inner = -( mp.log(2*mp.pi) + 0.5**2\n",
    "                   + 0.5**2 * mp.log( C_x/(0.5*mp.sqrt(2*mp.pi)) ) )\n",
    "    d = mp.e**(exp_inner)\n",
    "    e = mp.e**(-I_x * n)\n",
    "    f = n**(-(0.5 + 0.5**2))                 # n^(-0.75)\n",
    "    g = (mp.log(n))**((0.5**2)/2 - 0.5)      # (log n)^(-0.375)\n",
    "    h = theta_x                       # (Lambda^*)'(x)\n",
    "    # return x + (a*b*c*d*e*f*g)/( (1-alpha) * n * h )\n",
    "    return x + 1/( n * h )"
   ]
  },
  {
   "cell_type": "code",
   "execution_count": 99,
   "id": "2025cf35-638e-4781-9a20-8fa0168c38e3",
   "metadata": {},
   "outputs": [],
   "source": [
    "n = 1000\n",
    "alpha = 0.99   # corresponds to Prob ~ 1-alpha\n",
    "x, theta_x, I_x, sqrtLpp, C_x, psi = solve_x_from_alpha(n, alpha)\n",
    "es = ES(x, n, alpha)"
   ]
  },
  {
   "cell_type": "code",
   "execution_count": 100,
   "id": "9f1e3d52-b9a8-46fe-9d69-1f0815b5c736",
   "metadata": {},
   "outputs": [
    {
     "name": "stdout",
     "output_type": "stream",
     "text": [
      "VAR     = 0.5088025469879969\n",
      "ES      = 0.518267743235533\n",
      "theta_x = 0.105650213038141\n",
      "I(x)    = 0.000464952237354939\n",
      "sqrtLpp = 0.288594604466914\n",
      "C_x     = 0.0518951155545102\n",
      "psi     = 32.7975509626037\n"
     ]
    }
   ],
   "source": [
    "print(\"VAR     =\", x)\n",
    "print(\"ES      =\", es)\n",
    "print(\"theta_x =\", theta_x)\n",
    "print(\"I(x)    =\", I_x)\n",
    "print(\"sqrtLpp =\", sqrtLpp)\n",
    "print(\"C_x     =\", C_x)\n",
    "print(\"psi     =\", psi)"
   ]
  },
  {
   "cell_type": "code",
   "execution_count": 101,
   "id": "ef367558-91d0-4253-bd50-75edf7f1e027",
   "metadata": {},
   "outputs": [],
   "source": [
    "# For Gaussian(0,1) ep and Pareto(x_m=1,alpha=2) Z"
   ]
  },
  {
   "cell_type": "code",
   "execution_count": 102,
   "id": "e2ba5f33-8cc9-469b-89b5-d71533add732",
   "metadata": {},
   "outputs": [],
   "source": [
    "def prob_expression_2(x, n):\n",
    "    \"\"\"\n",
    "    Your full prefactor * exp{-n I(x)} * n^{-1/2} * (log n)^(-3/2) * C\n",
    "    \"\"\"\n",
    "    theta_x, I_x, sqrtLpp, C_x = uniform_LDP_stats(x)\n",
    "    a = mp.e**(-I_x * n)\n",
    "    b = n**(-1/2)\n",
    "    c = mp.log(n)**(-3/2)\n",
    "    d = 1/(theta_x * sqrtLpp) * 2 * (2*0.5**2)**(-(2+1)/2) * 0.5 * (2+1)**(-1/2)\n",
    "\n",
    "    return a*b*c*d"
   ]
  },
  {
   "cell_type": "code",
   "execution_count": 103,
   "id": "50366188-250b-4d2d-a527-c74643927b03",
   "metadata": {},
   "outputs": [],
   "source": [
    "# ---- Solve for x given n and alpha (right-tail) ----\n",
    "def solve_x_from_alpha_2(n, alpha, seed1=0.5001, seed2=0.9999, tol=1e-10, maxiter=60):\n",
    "    \"\"\"Solve Prob(x;n) = 1 - alpha for right tail (0.5<x<1).\"\"\"\n",
    "    target = 1 - alpha\n",
    "    f = lambda x: prob_expression_2(x, n) - target\n",
    "\n",
    "    # Try real-only secant using two seeds\n",
    "    try:\n",
    "        x_star = mp.findroot(f, seed1, seed2)\n",
    "        if abs(mp.im(x_star)) < 1e-12 and 0 < mp.re(x_star) < 1:\n",
    "            x_star = float(mp.re(x_star))\n",
    "        else:\n",
    "            raise ValueError(\"Non-real or out-of-range iterate\")\n",
    "    except Exception:\n",
    "        # Robust fallback: bisection on a monotone function (Prob decreases in x>0.5)\n",
    "        a, b = 0.5001, 0.999\n",
    "        fa, fb = f(a), f(b)\n",
    "        if not (fa >= 0 and fb <= 0):\n",
    "            raise RuntimeError(\n",
    "                f\"Target not bracketed: Prob(a)={fa+target:.3e}, Prob(b)={fb+target:.3e}. \"\n",
    "                f\"Try other bounds or check alpha/n.\"\n",
    "            )\n",
    "        for _ in range(maxiter):\n",
    "            m = 0.5*(a+b)\n",
    "            fm = f(m)\n",
    "            if abs(fm) < tol:\n",
    "                x_star = m\n",
    "                break\n",
    "            if fm > 0:  # Prob(m) > target -> need larger x to decrease Prob\n",
    "                a = m\n",
    "            else:\n",
    "                b = m\n",
    "        else:\n",
    "            x_star = 0.5*(a+b)\n",
    "\n",
    "    theta_x, I_x, sqrtLpp, C_x = uniform_LDP_stats(x_star)\n",
    "    psi = 1/(theta_x*sqrtLpp)   \n",
    "    return x_star, theta_x, I_x, sqrtLpp, C_x, psi\n"
   ]
  },
  {
   "cell_type": "code",
   "execution_count": 104,
   "id": "b2d652bf-406a-4efb-966e-bca5024dc710",
   "metadata": {},
   "outputs": [],
   "source": [
    "def ES_2(x, n, alpha):\n",
    "    \"\"\"\n",
    "    Your full prefactor * exp{-n I(x)} * n^{-3/4} * (log n)^(-3/8).\n",
    "    \"\"\"\n",
    "    theta_x, I_x, sqrtLpp, C_x = uniform_LDP_stats(x)\n",
    "    a = mp.e**(-I_x * n)\n",
    "    b = n**(-1/2)\n",
    "    c = mp.log(n)**(-3/2)\n",
    "    d = 1/(theta_x * sqrtLpp) * 2 * (2*0.5**2)**(-(2+1)/2) * 0.5 * (2+1)**(-1/2)\n",
    "    h = theta_x                       # (Lambda^*)'(x)\n",
    "    return x + a*b*c*d/( (1-alpha) * n * h )"
   ]
  },
  {
   "cell_type": "code",
   "execution_count": 135,
   "id": "4159466c-da37-477a-a369-a8cd1ac644c6",
   "metadata": {},
   "outputs": [],
   "source": [
    "n = 1000\n",
    "alpha = 0.999   # corresponds to Prob ~ 1-alpha\n",
    "x, theta_x, I_x, sqrtLpp, C_x, psi = solve_x_from_alpha_2(n, alpha)\n",
    "es = ES_2(x, n, alpha)"
   ]
  },
  {
   "cell_type": "code",
   "execution_count": 136,
   "id": "720c3a4a-f703-4f37-8fbd-5d117c920e2c",
   "metadata": {},
   "outputs": [
    {
     "name": "stdout",
     "output_type": "stream",
     "text": [
      "VAR     = 0.5242260844593866\n",
      "ES      = 0.527661053598525\n",
      "theta_x = 0.29112341104497\n",
      "I(x)    = 0.00352390275416775\n",
      "sqrtLpp = 0.288064889664327\n",
      "C_x     = 0.138508925178405\n",
      "psi     = 11.9242903034406\n"
     ]
    }
   ],
   "source": [
    "print(\"VAR     =\", x)\n",
    "print(\"ES      =\", es)\n",
    "print(\"theta_x =\", theta_x)\n",
    "print(\"I(x)    =\", I_x)\n",
    "print(\"sqrtLpp =\", sqrtLpp)\n",
    "print(\"C_x     =\", C_x)\n",
    "print(\"psi     =\", psi)"
   ]
  },
  {
   "cell_type": "code",
   "execution_count": null,
   "id": "a4c8893a-c27b-413e-a938-c3a7c228dfb5",
   "metadata": {},
   "outputs": [],
   "source": []
  }
 ],
 "metadata": {
  "kernelspec": {
   "display_name": "Python 3 (ipykernel)",
   "language": "python",
   "name": "python3"
  },
  "language_info": {
   "codemirror_mode": {
    "name": "ipython",
    "version": 3
   },
   "file_extension": ".py",
   "mimetype": "text/x-python",
   "name": "python",
   "nbconvert_exporter": "python",
   "pygments_lexer": "ipython3",
   "version": "3.12.6"
  }
 },
 "nbformat": 4,
 "nbformat_minor": 5
}
